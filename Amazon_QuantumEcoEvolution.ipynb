{
  "nbformat": 4,
  "nbformat_minor": 0,
  "metadata": {
    "colab": {
      "provenance": [],
      "authorship_tag": "ABX9TyPYLs5uTowDvNJkuk25AbNK",
      "include_colab_link": true
    },
    "kernelspec": {
      "name": "python3",
      "display_name": "Python 3"
    },
    "language_info": {
      "name": "python"
    }
  },
  "cells": [
    {
      "cell_type": "markdown",
      "metadata": {
        "id": "view-in-github",
        "colab_type": "text"
      },
      "source": [
        "<a href=\"https://colab.research.google.com/github/mohitraosatya/quantum-ecosystem-optimizer/blob/main/Amazon_QuantumEcoEvolution.ipynb\" target=\"_parent\"><img src=\"https://colab.research.google.com/assets/colab-badge.svg\" alt=\"Open In Colab\"/></a>"
      ]
    },
    {
      "cell_type": "code",
      "execution_count": 1,
      "metadata": {
        "colab": {
          "base_uri": "https://localhost:8080/"
        },
        "id": "Gqs_kwbQSiK8",
        "outputId": "aad726ac-5627-4e9a-dde5-e42a7438a8c5"
      },
      "outputs": [
        {
          "output_type": "stream",
          "name": "stdout",
          "text": [
            "Collecting amazon-braket-sdk\n",
            "  Downloading amazon_braket_sdk-1.91.0-py3-none-any.whl.metadata (14 kB)\n",
            "Collecting amazon-braket-schemas>=1.23.0 (from amazon-braket-sdk)\n",
            "  Downloading amazon_braket_schemas-1.23.3-py3-none-any.whl.metadata (6.1 kB)\n",
            "Collecting amazon-braket-default-simulator>=1.26.0 (from amazon-braket-sdk)\n",
            "  Downloading amazon_braket_default_simulator-1.26.4-py3-none-any.whl.metadata (6.5 kB)\n",
            "Collecting oqpy~=0.3.5 (from amazon-braket-sdk)\n",
            "  Downloading oqpy-0.3.7-py3-none-any.whl.metadata (8.3 kB)\n",
            "Collecting backoff (from amazon-braket-sdk)\n",
            "  Downloading backoff-2.2.1-py3-none-any.whl.metadata (14 kB)\n",
            "Collecting boltons (from amazon-braket-sdk)\n",
            "  Downloading boltons-25.0.0-py3-none-any.whl.metadata (6.5 kB)\n",
            "Collecting boto3>=1.28.53 (from amazon-braket-sdk)\n",
            "  Downloading boto3-1.37.33-py3-none-any.whl.metadata (6.7 kB)\n",
            "Collecting cloudpickle==2.2.1 (from amazon-braket-sdk)\n",
            "  Downloading cloudpickle-2.2.1-py3-none-any.whl.metadata (6.9 kB)\n",
            "Requirement already satisfied: nest-asyncio in /usr/local/lib/python3.11/dist-packages (from amazon-braket-sdk) (1.6.0)\n",
            "Requirement already satisfied: networkx in /usr/local/lib/python3.11/dist-packages (from amazon-braket-sdk) (3.4.2)\n",
            "Requirement already satisfied: numpy in /usr/local/lib/python3.11/dist-packages (from amazon-braket-sdk) (2.0.2)\n",
            "Collecting openpulse (from amazon-braket-sdk)\n",
            "  Downloading openpulse-1.0.1-py3-none-any.whl.metadata (2.0 kB)\n",
            "Collecting openqasm3 (from amazon-braket-sdk)\n",
            "  Downloading openqasm3-1.0.1-py3-none-any.whl.metadata (6.0 kB)\n",
            "Requirement already satisfied: sympy in /usr/local/lib/python3.11/dist-packages (from amazon-braket-sdk) (1.13.1)\n",
            "Collecting backports.entry-points-selectable (from amazon-braket-sdk)\n",
            "  Downloading backports.entry_points_selectable-1.3.0-py3-none-any.whl.metadata (4.1 kB)\n",
            "Requirement already satisfied: opt_einsum in /usr/local/lib/python3.11/dist-packages (from amazon-braket-default-simulator>=1.26.0->amazon-braket-sdk) (3.4.0)\n",
            "Requirement already satisfied: pydantic>2 in /usr/local/lib/python3.11/dist-packages (from amazon-braket-default-simulator>=1.26.0->amazon-braket-sdk) (2.11.2)\n",
            "Requirement already satisfied: scipy in /usr/local/lib/python3.11/dist-packages (from amazon-braket-default-simulator>=1.26.0->amazon-braket-sdk) (1.14.1)\n",
            "Collecting antlr4-python3-runtime==4.9.2 (from amazon-braket-default-simulator>=1.26.0->amazon-braket-sdk)\n",
            "  Downloading antlr4-python3-runtime-4.9.2.tar.gz (117 kB)\n",
            "\u001b[2K     \u001b[90m━━━━━━━━━━━━━━━━━━━━━━━━━━━━━━━━━━━━━━━\u001b[0m \u001b[32m117.2/117.2 kB\u001b[0m \u001b[31m7.0 MB/s\u001b[0m eta \u001b[36m0:00:00\u001b[0m\n",
            "\u001b[?25h  Preparing metadata (setup.py) ... \u001b[?25l\u001b[?25hdone\n",
            "Collecting botocore<1.38.0,>=1.37.33 (from boto3>=1.28.53->amazon-braket-sdk)\n",
            "  Downloading botocore-1.37.33-py3-none-any.whl.metadata (5.7 kB)\n",
            "Collecting jmespath<2.0.0,>=0.7.1 (from boto3>=1.28.53->amazon-braket-sdk)\n",
            "  Downloading jmespath-1.0.1-py3-none-any.whl.metadata (7.6 kB)\n",
            "Collecting s3transfer<0.12.0,>=0.11.0 (from boto3>=1.28.53->amazon-braket-sdk)\n",
            "  Downloading s3transfer-0.11.4-py3-none-any.whl.metadata (1.7 kB)\n",
            "Collecting mypy-extensions>=0.2.0 (from oqpy~=0.3.5->amazon-braket-sdk)\n",
            "  Downloading mypy_extensions-1.0.0-py3-none-any.whl.metadata (1.1 kB)\n",
            "Requirement already satisfied: mpmath<1.4,>=1.1.0 in /usr/local/lib/python3.11/dist-packages (from sympy->amazon-braket-sdk) (1.3.0)\n",
            "Requirement already satisfied: python-dateutil<3.0.0,>=2.1 in /usr/local/lib/python3.11/dist-packages (from botocore<1.38.0,>=1.37.33->boto3>=1.28.53->amazon-braket-sdk) (2.8.2)\n",
            "Requirement already satisfied: urllib3!=2.2.0,<3,>=1.25.4 in /usr/local/lib/python3.11/dist-packages (from botocore<1.38.0,>=1.37.33->boto3>=1.28.53->amazon-braket-sdk) (2.3.0)\n",
            "Requirement already satisfied: annotated-types>=0.6.0 in /usr/local/lib/python3.11/dist-packages (from pydantic>2->amazon-braket-default-simulator>=1.26.0->amazon-braket-sdk) (0.7.0)\n",
            "Requirement already satisfied: pydantic-core==2.33.1 in /usr/local/lib/python3.11/dist-packages (from pydantic>2->amazon-braket-default-simulator>=1.26.0->amazon-braket-sdk) (2.33.1)\n",
            "Requirement already satisfied: typing-extensions>=4.12.2 in /usr/local/lib/python3.11/dist-packages (from pydantic>2->amazon-braket-default-simulator>=1.26.0->amazon-braket-sdk) (4.13.1)\n",
            "Requirement already satisfied: typing-inspection>=0.4.0 in /usr/local/lib/python3.11/dist-packages (from pydantic>2->amazon-braket-default-simulator>=1.26.0->amazon-braket-sdk) (0.4.0)\n",
            "Requirement already satisfied: six>=1.5 in /usr/local/lib/python3.11/dist-packages (from python-dateutil<3.0.0,>=2.1->botocore<1.38.0,>=1.37.33->boto3>=1.28.53->amazon-braket-sdk) (1.17.0)\n",
            "Downloading amazon_braket_sdk-1.91.0-py3-none-any.whl (317 kB)\n",
            "\u001b[2K   \u001b[90m━━━━━━━━━━━━━━━━━━━━━━━━━━━━━━━━━━━━━━━━\u001b[0m \u001b[32m317.2/317.2 kB\u001b[0m \u001b[31m19.9 MB/s\u001b[0m eta \u001b[36m0:00:00\u001b[0m\n",
            "\u001b[?25hDownloading cloudpickle-2.2.1-py3-none-any.whl (25 kB)\n",
            "Downloading amazon_braket_default_simulator-1.26.4-py3-none-any.whl (224 kB)\n",
            "\u001b[2K   \u001b[90m━━━━━━━━━━━━━━━━━━━━━━━━━━━━━━━━━━━━━━━━\u001b[0m \u001b[32m224.0/224.0 kB\u001b[0m \u001b[31m20.0 MB/s\u001b[0m eta \u001b[36m0:00:00\u001b[0m\n",
            "\u001b[?25hDownloading amazon_braket_schemas-1.23.3-py3-none-any.whl (132 kB)\n",
            "\u001b[2K   \u001b[90m━━━━━━━━━━━━━━━━━━━━━━━━━━━━━━━━━━━━━━━━\u001b[0m \u001b[32m132.7/132.7 kB\u001b[0m \u001b[31m11.7 MB/s\u001b[0m eta \u001b[36m0:00:00\u001b[0m\n",
            "\u001b[?25hDownloading boto3-1.37.33-py3-none-any.whl (139 kB)\n",
            "\u001b[2K   \u001b[90m━━━━━━━━━━━━━━━━━━━━━━━━━━━━━━━━━━━━━━━━\u001b[0m \u001b[32m139.9/139.9 kB\u001b[0m \u001b[31m11.9 MB/s\u001b[0m eta \u001b[36m0:00:00\u001b[0m\n",
            "\u001b[?25hDownloading oqpy-0.3.7-py3-none-any.whl (36 kB)\n",
            "Downloading openpulse-1.0.1-py3-none-any.whl (537 kB)\n",
            "\u001b[2K   \u001b[90m━━━━━━━━━━━━━━━━━━━━━━━━━━━━━━━━━━━━━━━━\u001b[0m \u001b[32m537.8/537.8 kB\u001b[0m \u001b[31m23.8 MB/s\u001b[0m eta \u001b[36m0:00:00\u001b[0m\n",
            "\u001b[?25hDownloading openqasm3-1.0.1-py3-none-any.whl (541 kB)\n",
            "\u001b[2K   \u001b[90m━━━━━━━━━━━━━━━━━━━━━━━━━━━━━━━━━━━━━━━━\u001b[0m \u001b[32m541.5/541.5 kB\u001b[0m \u001b[31m34.4 MB/s\u001b[0m eta \u001b[36m0:00:00\u001b[0m\n",
            "\u001b[?25hDownloading backoff-2.2.1-py3-none-any.whl (15 kB)\n",
            "Downloading backports.entry_points_selectable-1.3.0-py3-none-any.whl (6.2 kB)\n",
            "Downloading boltons-25.0.0-py3-none-any.whl (194 kB)\n",
            "\u001b[2K   \u001b[90m━━━━━━━━━━━━━━━━━━━━━━━━━━━━━━━━━━━━━━━━\u001b[0m \u001b[32m194.2/194.2 kB\u001b[0m \u001b[31m17.8 MB/s\u001b[0m eta \u001b[36m0:00:00\u001b[0m\n",
            "\u001b[?25hDownloading botocore-1.37.33-py3-none-any.whl (13.5 MB)\n",
            "\u001b[2K   \u001b[90m━━━━━━━━━━━━━━━━━━━━━━━━━━━━━━━━━━━━━━━━\u001b[0m \u001b[32m13.5/13.5 MB\u001b[0m \u001b[31m94.7 MB/s\u001b[0m eta \u001b[36m0:00:00\u001b[0m\n",
            "\u001b[?25hDownloading jmespath-1.0.1-py3-none-any.whl (20 kB)\n",
            "Downloading mypy_extensions-1.0.0-py3-none-any.whl (4.7 kB)\n",
            "Downloading s3transfer-0.11.4-py3-none-any.whl (84 kB)\n",
            "\u001b[2K   \u001b[90m━━━━━━━━━━━━━━━━━━━━━━━━━━━━━━━━━━━━━━━━\u001b[0m \u001b[32m84.4/84.4 kB\u001b[0m \u001b[31m8.9 MB/s\u001b[0m eta \u001b[36m0:00:00\u001b[0m\n",
            "\u001b[?25hBuilding wheels for collected packages: antlr4-python3-runtime\n",
            "  Building wheel for antlr4-python3-runtime (setup.py) ... \u001b[?25l\u001b[?25hdone\n",
            "  Created wheel for antlr4-python3-runtime: filename=antlr4_python3_runtime-4.9.2-py3-none-any.whl size=144544 sha256=7023a0f4ee60d2aee880c2af7551bc277512dce8f27ba5cc78c89cb6e85ad970\n",
            "  Stored in directory: /root/.cache/pip/wheels/02/5e/de/90c5aab11b66f94cf3f381ec55aaf3f2008213a7056310e25f\n",
            "Successfully built antlr4-python3-runtime\n",
            "Installing collected packages: openqasm3, antlr4-python3-runtime, mypy-extensions, jmespath, cloudpickle, boltons, backports.entry-points-selectable, backoff, openpulse, botocore, s3transfer, oqpy, amazon-braket-schemas, boto3, amazon-braket-default-simulator, amazon-braket-sdk\n",
            "  Attempting uninstall: cloudpickle\n",
            "    Found existing installation: cloudpickle 3.1.1\n",
            "    Uninstalling cloudpickle-3.1.1:\n",
            "      Successfully uninstalled cloudpickle-3.1.1\n",
            "\u001b[31mERROR: pip's dependency resolver does not currently take into account all the packages that are installed. This behaviour is the source of the following dependency conflicts.\n",
            "dask 2024.12.1 requires cloudpickle>=3.0.0, but you have cloudpickle 2.2.1 which is incompatible.\n",
            "distributed 2024.12.1 requires cloudpickle>=3.0.0, but you have cloudpickle 2.2.1 which is incompatible.\u001b[0m\u001b[31m\n",
            "\u001b[0mSuccessfully installed amazon-braket-default-simulator-1.26.4 amazon-braket-schemas-1.23.3 amazon-braket-sdk-1.91.0 antlr4-python3-runtime-4.9.2 backoff-2.2.1 backports.entry-points-selectable-1.3.0 boltons-25.0.0 boto3-1.37.33 botocore-1.37.33 cloudpickle-2.2.1 jmespath-1.0.1 mypy-extensions-1.0.0 openpulse-1.0.1 openqasm3-1.0.1 oqpy-0.3.7 s3transfer-0.11.4\n"
          ]
        }
      ],
      "source": [
        "!pip install amazon-braket-sdk"
      ]
    },
    {
      "cell_type": "code",
      "source": [
        "!pip install deap"
      ],
      "metadata": {
        "colab": {
          "base_uri": "https://localhost:8080/"
        },
        "id": "6nJIBFKzaJMk",
        "outputId": "42e8b538-5aa4-407b-9f04-881d938779fd"
      },
      "execution_count": 9,
      "outputs": [
        {
          "output_type": "stream",
          "name": "stdout",
          "text": [
            "Collecting deap\n",
            "  Downloading deap-1.4.2-cp311-cp311-manylinux_2_5_x86_64.manylinux1_x86_64.manylinux_2_17_x86_64.manylinux2014_x86_64.whl.metadata (13 kB)\n",
            "Requirement already satisfied: numpy in /usr/local/lib/python3.11/dist-packages (from deap) (2.0.2)\n",
            "Downloading deap-1.4.2-cp311-cp311-manylinux_2_5_x86_64.manylinux1_x86_64.manylinux_2_17_x86_64.manylinux2014_x86_64.whl (135 kB)\n",
            "\u001b[?25l   \u001b[90m━━━━━━━━━━━━━━━━━━━━━━━━━━━━━━━━━━━━━━━━\u001b[0m \u001b[32m0.0/135.4 kB\u001b[0m \u001b[31m?\u001b[0m eta \u001b[36m-:--:--\u001b[0m\r\u001b[2K   \u001b[90m━━━━━━━━━━━━━━━━━━━━━━━━━━━━━━━━━━━━━━━━\u001b[0m \u001b[32m135.4/135.4 kB\u001b[0m \u001b[31m8.8 MB/s\u001b[0m eta \u001b[36m0:00:00\u001b[0m\n",
            "\u001b[?25hInstalling collected packages: deap\n",
            "Successfully installed deap-1.4.2\n"
          ]
        }
      ]
    },
    {
      "cell_type": "code",
      "source": [
        "import numpy as np\n",
        "import matplotlib.pyplot as plt\n",
        "from braket.circuits import Circuit\n",
        "from braket.devices import LocalSimulator\n",
        "import random\n",
        "from deap import base, creator, tools, algorithms"
      ],
      "metadata": {
        "id": "I05SxjEGSjtd"
      },
      "execution_count": 10,
      "outputs": []
    },
    {
      "cell_type": "code",
      "source": [
        "def create_quantum_ecosystem_circuit(params):\n",
        "    \"\"\"\n",
        "    Create a parameterized quantum circuit representing a two-species ecosystem.\n",
        "\n",
        "    :param params: List or array of parameters. For example:\n",
        "                   [theta_h, theta_rx, theta_ry, theta_cz_angle]\n",
        "    :return: A Braket Circuit object.\n",
        "    \"\"\"\n",
        "    # Unpack parameters\n",
        "    theta_h, theta_rx, theta_ry, theta_extra = params  # you can expand with more parameters\n",
        "\n",
        "    circuit = Circuit()\n",
        "\n",
        "    # Apply an initial Hadamard on qubit 0 to create superposition (species A)\n",
        "    circuit.h(0)\n",
        "\n",
        "    # Apply parameterized rotations:\n",
        "    # For species A (qubit 0)\n",
        "    circuit.rx(0, theta_rx)\n",
        "    circuit.ry(0, theta_h)\n",
        "\n",
        "    # For species B (qubit 1), also put in superposition\n",
        "    circuit.h(1)\n",
        "    circuit.rx(1, theta_ry)\n",
        "\n",
        "    # Entangling operation simulating interaction between species A and B\n",
        "    circuit.cz(0,1)\n",
        "\n",
        "    # Extra rotation to further modulate interaction dynamics\n",
        "    circuit.rz(0, theta_extra)\n",
        "\n",
        "    return circuit\n"
      ],
      "metadata": {
        "id": "1IpwGCOnaMzi"
      },
      "execution_count": 11,
      "outputs": []
    },
    {
      "cell_type": "code",
      "source": [
        "def simulate_circuit(circuit, shots=1000):\n",
        "    \"\"\"\n",
        "    Run the provided circuit on the local simulator and return measurement counts.\n",
        "    \"\"\"\n",
        "    device = LocalSimulator()\n",
        "    task = device.run(circuit, shots=shots)\n",
        "    result = task.result()\n",
        "    return result.measurement_counts\n",
        "\n",
        "def compute_species_population(counts):\n",
        "    \"\"\"\n",
        "    Convert measurement counts into species populations.\n",
        "    For a two-qubit system: bitstring '00', '01', '10', '11' represent different population states.\n",
        "    This example calculates an approximate population density for each species.\n",
        "    \"\"\"\n",
        "    total_shots = sum(counts.values())\n",
        "    pop_species_A = 0.0\n",
        "    pop_species_B = 0.0\n",
        "\n",
        "    for bitstr, count in counts.items():\n",
        "        # Assume the first bit represents species A and second represents species B.\n",
        "        # For example, '0' means low population and '1' means high population.\n",
        "        pop_species_A += count * int(bitstr[0])\n",
        "        pop_species_B += count * int(bitstr[1])\n",
        "\n",
        "    return pop_species_A / total_shots, pop_species_B / total_shots\n",
        "\n",
        "def fitness_function(params):\n",
        "    \"\"\"\n",
        "    Evaluate the fitness of a candidate circuit.\n",
        "\n",
        "    Fitness is defined here as the closeness of species populations to an ideal balance\n",
        "    (e.g., both near 0.5 in a normalized scale), penalized for extreme divergences.\n",
        "    \"\"\"\n",
        "    circuit = create_quantum_ecosystem_circuit(params)\n",
        "    counts = simulate_circuit(circuit)\n",
        "    pop_A, pop_B = compute_species_population(counts)\n",
        "\n",
        "    # Ideal balance (you can change these targets as needed)\n",
        "    target_A, target_B = 0.5, 0.5\n",
        "    # Fitness: lower absolute differences yield higher fitness.\n",
        "    fitness = - (abs(pop_A - target_A) + abs(pop_B - target_B))\n",
        "    return (fitness,)\n",
        "\n",
        "# Test the simulation with an example parameter set:\n",
        "test_params = [0.7, 1.2, 0.8, 0.5]  # Example values; these will be optimized.\n",
        "print(\"Test fitness:\", fitness_function(test_params))\n"
      ],
      "metadata": {
        "colab": {
          "base_uri": "https://localhost:8080/"
        },
        "id": "BB37kzv5SrsS",
        "outputId": "ccd5c045-f1ee-47cf-97bc-dae594e68bd0"
      },
      "execution_count": 12,
      "outputs": [
        {
          "output_type": "stream",
          "name": "stdout",
          "text": [
            "Test fitness: (-0.353,)\n"
          ]
        }
      ]
    },
    {
      "cell_type": "code",
      "source": [
        "# Define the optimization problem using DEAP\n",
        "creator.create(\"FitnessMax\", base.Fitness, weights=(1.0,))  # We maximize fitness.\n",
        "creator.create(\"Individual\", list, fitness=creator.FitnessMax)\n",
        "\n",
        "toolbox = base.Toolbox()\n",
        "\n",
        "# Attribute generator: generate a random number between defined bounds for each parameter.\n",
        "# For our example, assume parameters range from 0 to 2π.\n",
        "BOUND_LOW, BOUND_UP = 0, 6.283\n",
        "NUM_PARAMS = 4\n",
        "\n",
        "toolbox.register(\"attr_float\", random.uniform, BOUND_LOW, BOUND_UP)\n",
        "toolbox.register(\"individual\", tools.initRepeat, creator.Individual, toolbox.attr_float, n=NUM_PARAMS)\n",
        "toolbox.register(\"population\", tools.initRepeat, list, toolbox.individual)\n",
        "\n",
        "# Register the evaluation function.\n",
        "toolbox.register(\"evaluate\", fitness_function)\n",
        "# Use standard genetic operators: crossover and mutation.\n",
        "toolbox.register(\"mate\", tools.cxBlend, alpha=0.5)\n",
        "toolbox.register(\"mutate\", tools.mutGaussian, mu=0, sigma=0.3, indpb=0.5)\n",
        "toolbox.register(\"select\", tools.selTournament, tournsize=3)\n",
        "\n",
        "# Create initial population:\n",
        "population = toolbox.population(n=20)\n",
        "\n",
        "# Set parameters for evolution:\n",
        "NGEN = 30  # number of generations\n",
        "CXPB = 0.6  # crossover probability\n",
        "MUTPB = 0.3  # mutation probability\n",
        "\n",
        "# Store best fitness per generation for visualization.\n",
        "best_fitness_over_time = []\n"
      ],
      "metadata": {
        "colab": {
          "base_uri": "https://localhost:8080/"
        },
        "id": "N2ZLMTuKXD0C",
        "outputId": "c11d4dc9-ff39-4bc8-d8cf-77b279ccd383"
      },
      "execution_count": 14,
      "outputs": [
        {
          "output_type": "stream",
          "name": "stderr",
          "text": [
            "/usr/local/lib/python3.11/dist-packages/deap/creator.py:185: RuntimeWarning: A class named 'FitnessMax' has already been created and it will be overwritten. Consider deleting previous creation of that class or rename it.\n",
            "  warnings.warn(\"A class named '{0}' has already been created and it \"\n",
            "/usr/local/lib/python3.11/dist-packages/deap/creator.py:185: RuntimeWarning: A class named 'Individual' has already been created and it will be overwritten. Consider deleting previous creation of that class or rename it.\n",
            "  warnings.warn(\"A class named '{0}' has already been created and it \"\n"
          ]
        }
      ]
    },
    {
      "cell_type": "code",
      "source": [
        "import time\n",
        "\n",
        "start_time = time.time()\n",
        "for gen in range(NGEN):\n",
        "    print(f\"-- Generation {gen} --\")\n",
        "\n",
        "    # Evaluate all individuals in the population.\n",
        "    fitnesses = list(map(toolbox.evaluate, population))\n",
        "    for ind, fit in zip(population, fitnesses):\n",
        "        ind.fitness.values = fit\n",
        "\n",
        "    # Record best fitness.\n",
        "    best_ind = tools.selBest(population, 1)[0]\n",
        "    best_fitness_over_time.append(best_ind.fitness.values[0])\n",
        "    print(\"  Best fitness:\", best_ind.fitness.values[0])\n",
        "\n",
        "    # Select the next generation individuals.\n",
        "    offspring = toolbox.select(population, len(population))\n",
        "    offspring = list(map(toolbox.clone, offspring))\n",
        "\n",
        "    # Apply crossover and mutation on the offspring.\n",
        "    for child1, child2 in zip(offspring[::2], offspring[1::2]):\n",
        "        if random.random() < CXPB:\n",
        "            toolbox.mate(child1, child2)\n",
        "            del child1.fitness.values\n",
        "            del child2.fitness.values\n",
        "\n",
        "    for mutant in offspring:\n",
        "        if random.random() < MUTPB:\n",
        "            toolbox.mutate(mutant)\n",
        "            del mutant.fitness.values\n",
        "\n",
        "    # Evaluate the individuals with an invalid fitness.\n",
        "    invalid_ind = [ind for ind in offspring if not ind.fitness.valid]\n",
        "    fitnesses = map(toolbox.evaluate, invalid_ind)\n",
        "    for ind, fit in zip(invalid_ind, fitnesses):\n",
        "        ind.fitness.values = fit\n",
        "\n",
        "    # Replace the old population with the offspring\n",
        "    population[:] = offspring\n",
        "\n",
        "end_time = time.time()\n",
        "print(\"Evolution completed in\", end_time - start_time, \"seconds\")\n"
      ],
      "metadata": {
        "colab": {
          "base_uri": "https://localhost:8080/"
        },
        "id": "oyMX3IkgaZPv",
        "outputId": "9dc26455-0967-4016-f1a5-25c707defa34"
      },
      "execution_count": 15,
      "outputs": [
        {
          "output_type": "stream",
          "name": "stdout",
          "text": [
            "-- Generation 0 --\n",
            "  Best fitness: -0.03700000000000003\n",
            "-- Generation 1 --\n",
            "  Best fitness: -0.04199999999999998\n",
            "-- Generation 2 --\n",
            "  Best fitness: -0.010000000000000009\n",
            "-- Generation 3 --\n",
            "  Best fitness: -0.01200000000000001\n",
            "-- Generation 4 --\n",
            "  Best fitness: -0.013000000000000012\n",
            "-- Generation 5 --\n",
            "  Best fitness: -0.01100000000000001\n",
            "-- Generation 6 --\n",
            "  Best fitness: -0.0040000000000000036\n",
            "-- Generation 7 --\n",
            "  Best fitness: -0.0020000000000000018\n",
            "-- Generation 8 --\n",
            "  Best fitness: -0.01100000000000001\n",
            "-- Generation 9 --\n",
            "  Best fitness: -0.0030000000000000027\n",
            "-- Generation 10 --\n",
            "  Best fitness: -0.010000000000000009\n",
            "-- Generation 11 --\n",
            "  Best fitness: -0.0050000000000000044\n",
            "-- Generation 12 --\n",
            "  Best fitness: -0.007000000000000006\n",
            "-- Generation 13 --\n",
            "  Best fitness: -0.009000000000000008\n",
            "-- Generation 14 --\n",
            "  Best fitness: -0.0010000000000000009\n",
            "-- Generation 15 --\n",
            "  Best fitness: -0.006000000000000005\n",
            "-- Generation 16 --\n",
            "  Best fitness: -0.0040000000000000036\n",
            "-- Generation 17 --\n",
            "  Best fitness: -0.009000000000000008\n",
            "-- Generation 18 --\n",
            "  Best fitness: -0.0040000000000000036\n",
            "-- Generation 19 --\n",
            "  Best fitness: -0.0010000000000000009\n",
            "-- Generation 20 --\n",
            "  Best fitness: -0.0020000000000000018\n",
            "-- Generation 21 --\n",
            "  Best fitness: -0.0050000000000000044\n",
            "-- Generation 22 --\n",
            "  Best fitness: -0.0040000000000000036\n",
            "-- Generation 23 --\n",
            "  Best fitness: -0.01100000000000001\n",
            "-- Generation 24 --\n",
            "  Best fitness: -0.0050000000000000044\n",
            "-- Generation 25 --\n",
            "  Best fitness: -0.007000000000000006\n",
            "-- Generation 26 --\n",
            "  Best fitness: -0.0050000000000000044\n",
            "-- Generation 27 --\n",
            "  Best fitness: -0.0050000000000000044\n",
            "-- Generation 28 --\n",
            "  Best fitness: -0.0040000000000000036\n",
            "-- Generation 29 --\n",
            "  Best fitness: -0.01200000000000001\n",
            "Evolution completed in 11.471415042877197 seconds\n"
          ]
        }
      ]
    },
    {
      "cell_type": "code",
      "source": [
        "plt.figure(figsize=(8, 4))\n",
        "plt.plot(range(NGEN), best_fitness_over_time, marker='o', linestyle='-', color='b')\n",
        "plt.title(\"Evolution of Ecosystem Fitness over Generations\")\n",
        "plt.xlabel(\"Generation\")\n",
        "plt.ylabel(\"Best Fitness Score\")\n",
        "plt.grid(True)\n",
        "plt.show()\n"
      ],
      "metadata": {
        "colab": {
          "base_uri": "https://localhost:8080/",
          "height": 410
        },
        "id": "CZca12KrXGSa",
        "outputId": "bb166c6e-d3bc-4df6-938e-fc52ee6d7280"
      },
      "execution_count": 17,
      "outputs": [
        {
          "output_type": "display_data",
          "data": {
            "text/plain": [
              "<Figure size 800x400 with 1 Axes>"
            ],
            "image/png": "[encoded data removed]"
          },
          "metadata": {}
        }
      ]
    },
    {
      "cell_type": "code",
      "source": [
        "best_individual = tools.selBest(population, 1)[0]\n",
        "print(\"Best individual parameters:\", best_individual)\n",
        "print(\"Best individual fitness:\", best_individual.fitness.values[0])\n"
      ],
      "metadata": {
        "colab": {
          "base_uri": "https://localhost:8080/"
        },
        "id": "PEaS7ycLa-U0",
        "outputId": "be9fdda6-76fc-4c26-cc6f-a53e52d4c4bc"
      },
      "execution_count": 18,
      "outputs": [
        {
          "output_type": "stream",
          "name": "stdout",
          "text": [
            "Best individual parameters: [3.132774063407237, 2.3511266101876114, 2.26920850234529, 4.95432177161591]\n",
            "Best individual fitness: -0.0030000000000000027\n"
          ]
        }
      ]
    }
  ]
}